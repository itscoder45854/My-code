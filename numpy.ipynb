{
 "cells": [
  {
   "cell_type": "code",
   "execution_count": null,
   "id": "3e603774",
   "metadata": {},
   "outputs": [],
   "source": [
    "import numpy as np"
   ]
  },
  {
   "cell_type": "markdown",
   "id": "51c9d619",
   "metadata": {},
   "source": [
    "# Basic Array Creation"
   ]
  },
  {
   "cell_type": "code",
   "execution_count": null,
   "id": "c7b3392c",
   "metadata": {},
   "outputs": [],
   "source": [
    "arr = np.array([1,2,3,4,5])\n",
    "arr"
   ]
  },
  {
   "cell_type": "code",
   "execution_count": null,
   "id": "04dd7d35",
   "metadata": {},
   "outputs": [],
   "source": [
    "a = [1, 2, 3, 4, 5, 6.2, \"Hello\"]\n",
    "a"
   ]
  },
  {
   "cell_type": "code",
   "execution_count": null,
   "id": "8a2ea892",
   "metadata": {},
   "outputs": [],
   "source": [
    "np.array(a)"
   ]
  },
  {
   "cell_type": "code",
   "execution_count": null,
   "id": "b7cc6984",
   "metadata": {},
   "outputs": [],
   "source": [
    "\n",
    "l = [[1, 2, 3],[4, 5, 6],[7, 8, 9]]\n",
    "l"
   ]
  },
  {
   "cell_type": "code",
   "execution_count": null,
   "id": "3375c320",
   "metadata": {},
   "outputs": [],
   "source": [
    "np.array(l)"
   ]
  },
  {
   "cell_type": "markdown",
   "id": "66292eb0",
   "metadata": {},
   "source": [
    "# Array Generation Function"
   ]
  },
  {
   "cell_type": "code",
   "execution_count": null,
   "id": "a1487544",
   "metadata": {},
   "outputs": [],
   "source": [
    "np.arange(1, 10+1, 2)"
   ]
  },
  {
   "cell_type": "code",
   "execution_count": null,
   "id": "341ee9e7",
   "metadata": {},
   "outputs": [],
   "source": []
  },
  {
   "cell_type": "code",
   "execution_count": null,
   "id": "00187f9f",
   "metadata": {},
   "outputs": [],
   "source": []
  }
 ],
 "metadata": {
  "kernelspec": {
   "display_name": ".conda",
   "language": "python",
   "name": "python3"
  },
  "language_info": {
   "codemirror_mode": {
    "name": "ipython",
    "version": 3
   },
   "file_extension": ".py",
   "mimetype": "text/x-python",
   "name": "python",
   "nbconvert_exporter": "python",
   "pygments_lexer": "ipython3",
   "version": "3.11.13"
  }
 },
 "nbformat": 4,
 "nbformat_minor": 5
}
